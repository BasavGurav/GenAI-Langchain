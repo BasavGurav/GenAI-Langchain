{
 "cells": [
  {
   "cell_type": "code",
   "execution_count": 94,
   "id": "d73fd20f-afaf-48ee-9681-9cf636c2faf0",
   "metadata": {},
   "outputs": [],
   "source": [
    "import os"
   ]
  },
  {
   "cell_type": "code",
   "execution_count": 95,
   "id": "1d4bce99-0c6f-4f62-bd27-990439380488",
   "metadata": {},
   "outputs": [],
   "source": [
    "import streamlit as st\n",
    "\n",
    "import pickle"
   ]
  },
  {
   "cell_type": "code",
   "execution_count": 96,
   "id": "dfd34f7d-8df4-49f6-a6f1-d8fedbad8270",
   "metadata": {},
   "outputs": [],
   "source": [
    "import time"
   ]
  },
  {
   "cell_type": "code",
   "execution_count": 97,
   "id": "21a549fc-84c1-422c-a341-15b4f8ff994c",
   "metadata": {},
   "outputs": [],
   "source": [
    "import langchain"
   ]
  },
  {
   "cell_type": "code",
   "execution_count": 98,
   "id": "fcc8bf89-84cf-423b-b8c8-e9f7b5ba37a5",
   "metadata": {},
   "outputs": [],
   "source": [
    "from langchain import OpenAI"
   ]
  },
  {
   "cell_type": "code",
   "execution_count": 99,
   "id": "664307c3-a3b7-45a0-b39d-3f6cc031c886",
   "metadata": {},
   "outputs": [],
   "source": [
    "from langchain.chains import RetrievalQAWithSourcesChain"
   ]
  },
  {
   "cell_type": "code",
   "execution_count": 100,
   "id": "47b3380d-53a2-4821-b27d-4da7548b57c7",
   "metadata": {},
   "outputs": [],
   "source": [
    "from langchain.chains.qa_with_sources.loading import load_qa_with_sources_chain"
   ]
  },
  {
   "cell_type": "code",
   "execution_count": 101,
   "id": "c25eff01-35bd-4a34-8194-5899a318c28b",
   "metadata": {},
   "outputs": [],
   "source": [
    "from langchain.text_splitter import RecursiveCharacterTextSplitter"
   ]
  },
  {
   "cell_type": "code",
   "execution_count": 102,
   "id": "bfd2f62b-873a-4155-9ae2-08a7b08d71ac",
   "metadata": {},
   "outputs": [],
   "source": [
    "from langchain.document_loaders import UnstructuredURLLoader"
   ]
  },
  {
   "cell_type": "code",
   "execution_count": 103,
   "id": "456d0db8-cca4-4fe0-bba2-560fc2b44366",
   "metadata": {},
   "outputs": [],
   "source": [
    "from langchain.embeddings import HuggingFaceEmbeddings"
   ]
  },
  {
   "cell_type": "code",
   "execution_count": 104,
   "id": "b144f34e-c06b-4f41-bb3d-6a449086dc46",
   "metadata": {},
   "outputs": [],
   "source": [
    "from langchain.vectorstores import FAISS"
   ]
  },
  {
   "cell_type": "markdown",
   "id": "1422fd47-bd8b-48a1-bb1a-df61423059b3",
   "metadata": {},
   "source": [
    "## Load Data"
   ]
  },
  {
   "cell_type": "code",
   "execution_count": 105,
   "id": "a16c16ff-b45f-470a-b473-4c8b1881f8b7",
   "metadata": {},
   "outputs": [
    {
     "data": {
      "text/plain": [
       "2"
      ]
     },
     "execution_count": 105,
     "metadata": {},
     "output_type": "execute_result"
    }
   ],
   "source": [
    "loaders = UnstructuredURLLoader(urls=[\n",
    "    \"https://www.moneycontrol.com/news/business/markets/wall-street-rises-as-tesla-soars-on-ai-optimism-11351111.html\",\n",
    "    \"https://www.moneycontrol.com/news/business/tata-motors-launches-punch-icng-price-starts-at-rs-7-1-lakh-11098751.html\"\n",
    "])\n",
    "data = loaders.load() \n",
    "len(data)"
   ]
  },
  {
   "cell_type": "markdown",
   "id": "130fe424-0206-441c-b76d-1478eeaf493f",
   "metadata": {},
   "source": [
    "## Split data to create chunks "
   ]
  },
  {
   "cell_type": "code",
   "execution_count": 106,
   "id": "aa71bff6-3980-4fe0-8dd4-0205929ee7df",
   "metadata": {},
   "outputs": [],
   "source": [
    "text_splitter = RecursiveCharacterTextSplitter(\n",
    "    chunk_size = 1000,\n",
    "    chunk_overlap = 200\n",
    ")"
   ]
  },
  {
   "cell_type": "code",
   "execution_count": 107,
   "id": "24d21c43-5a54-49d5-8f26-553db5f591b2",
   "metadata": {},
   "outputs": [],
   "source": [
    "docs = text_splitter.split_documents(data)"
   ]
  },
  {
   "cell_type": "code",
   "execution_count": 108,
   "id": "117022f8-09b5-4a03-bc81-c612de015276",
   "metadata": {},
   "outputs": [
    {
     "data": {
      "text/plain": [
       "langchain_core.documents.base.Document"
      ]
     },
     "execution_count": 108,
     "metadata": {},
     "output_type": "execute_result"
    }
   ],
   "source": [
    "type(docs[1])"
   ]
  },
  {
   "cell_type": "code",
   "execution_count": 109,
   "id": "8277e56e-d5f7-4483-abe0-761a19eeb1e4",
   "metadata": {},
   "outputs": [
    {
     "data": {
      "text/plain": [
       "Document(metadata={'source': 'https://www.moneycontrol.com/news/business/markets/wall-street-rises-as-tesla-soars-on-ai-optimism-11351111.html'}, page_content='English\\n\\nHindi\\n\\nGujarati\\n\\nSpecials\\n\\nHello, Login\\n\\nHello, Login\\n\\nLog-inor Sign-Up\\n\\nMy Account\\n\\nMy Profile\\n\\nMy Portfolio\\n\\nMy Watchlist\\n\\nMy Alerts\\n\\nMy Messages\\n\\nPrice Alerts\\n\\nMy Profile\\n\\nMy PRO\\n\\nMy Portfolio\\n\\nMy Watchlist\\n\\nMy Alerts\\n\\nMy Messages\\n\\nPrice Alerts\\n\\nLogout\\n\\nLoans up to ₹50 LAKHS\\n\\nFixed Deposits\\n\\nCredit CardsLifetime Free\\n\\nCredit Score\\n\\nChat with Us\\n\\nDownload App\\n\\nFollow us on:\\n\\nNetwork 18\\n\\nGo Ad-Free\\n\\nMy Alerts\\n\\n>->MC_ENG_DESKTOP/MC_ENG_NEWS/MC_ENG_MARKETS_AS/MC_ENG_ROS_NWS_MKTS_AS_ATF_728\\n\\nMoneycontrol\\n\\nGo PRO NowPRO\\n\\nMoneycontrol PRO\\n\\nAdvertisement\\n\\nRemove Ad\\n\\nBusiness\\n\\nMarkets\\n\\nStocks\\n\\nEconomy\\n\\nCompanies\\n\\nTrends\\n\\nIPO\\n\\nOpinion\\n\\nEV Special\\n\\nCrypto Webinar Live on 29th June\\n\\nHomeNewsBusinessMarketsWall Street rises as Tesla soars on AI optimism\\n\\nTrending Topics\\n\\nSensex TodayMCX Share PricePTC Industries Share PriceTimex India Share PriceJB Chemicals Share Price\\n\\nWall Street rises as Tesla soars on AI optimism')"
      ]
     },
     "execution_count": 109,
     "metadata": {},
     "output_type": "execute_result"
    }
   ],
   "source": [
    "docs[0]"
   ]
  },
  {
   "cell_type": "markdown",
   "id": "01ff6728-88ff-45e9-afca-e9fe0945dcf6",
   "metadata": {},
   "source": [
    "## Create embeddings for these docs to save in the Faiss index"
   ]
  },
  {
   "cell_type": "code",
   "execution_count": 110,
   "id": "a18a4bbc-c30e-4679-91b5-ffe79a0a2724",
   "metadata": {},
   "outputs": [
    {
     "name": "stderr",
     "output_type": "stream",
     "text": [
      "/var/folders/n5/gczpg8p15232kn1lb8kbz60c0000gn/T/ipykernel_25404/1071634739.py:2: LangChainDeprecationWarning: Default values for HuggingFaceEmbeddings.model_name were deprecated in LangChain 0.2.16 and will be removed in 0.4.0. Explicitly pass a model_name to the HuggingFaceEmbeddings constructor instead.\n",
      "  embeddings = HuggingFaceEmbeddings()\n"
     ]
    }
   ],
   "source": [
    "# Create the embeddings of the chunks using openAIEmbeddings\n",
    "embeddings = HuggingFaceEmbeddings()\n",
    "\n",
    "# Pass the documents and embeddings inorder to create FAISS vector index\n",
    "vectorindex_openai = FAISS.from_documents(docs, embeddings)"
   ]
  },
  {
   "cell_type": "code",
   "execution_count": 111,
   "id": "ffe300dc-49cc-43b0-bc4c-cd2aa49f5d80",
   "metadata": {},
   "outputs": [],
   "source": [
    "# storing vector index create in local\n",
    "file_path = \"vector_index.pkl\"\n",
    "with open(file_path, \"wb\") as f:\n",
    "    pickle.dump(vectorindex_openai, f)"
   ]
  },
  {
   "cell_type": "code",
   "execution_count": 112,
   "id": "be7aecc9-4fa5-464a-8acd-e44b33e38c0c",
   "metadata": {},
   "outputs": [],
   "source": [
    "import ollama"
   ]
  },
  {
   "cell_type": "code",
   "execution_count": 113,
   "id": "6c4d1080-032b-4b1c-9d33-fcfccc3d8882",
   "metadata": {},
   "outputs": [],
   "source": [
    "client = ollama.Client()"
   ]
  },
  {
   "cell_type": "code",
   "execution_count": 117,
   "id": "6a19d7d7-8500-41b8-bdb0-966d89c466d6",
   "metadata": {},
   "outputs": [],
   "source": [
    "model = \"llama3.2\"\n",
    "prompt = \"what is your name\""
   ]
  },
  {
   "cell_type": "code",
   "execution_count": 118,
   "id": "aefab262-0079-4e53-8865-2667718450d0",
   "metadata": {},
   "outputs": [],
   "source": [
    "response = client.generate(model=model, prompt=prompt)"
   ]
  },
  {
   "cell_type": "code",
   "execution_count": 119,
   "id": "6226af78-1767-4474-8e3f-506066e30dbe",
   "metadata": {},
   "outputs": [
    {
     "name": "stdout",
     "output_type": "stream",
     "text": [
      "Response from ollama:\n",
      "I don't have a personal name, but I'm an AI designed to assist and communicate with users. I'm often referred to as a \"language model\" or a \"chatbot.\" You can think of me as a helpful digital companion, here to provide information, answer questions, and engage in conversation. What's your name?\n"
     ]
    }
   ],
   "source": [
    "print(\"Response from ollama:\")\n",
    "print(response.response)"
   ]
  },
  {
   "cell_type": "code",
   "execution_count": null,
   "id": "1701b54b-4704-4d2d-a48e-5a0791c15dbe",
   "metadata": {},
   "outputs": [],
   "source": []
  }
 ],
 "metadata": {
  "kernelspec": {
   "display_name": "GenAI Rocky langchain",
   "language": "python",
   "name": "genairocky"
  },
  "language_info": {
   "codemirror_mode": {
    "name": "ipython",
    "version": 3
   },
   "file_extension": ".py",
   "mimetype": "text/x-python",
   "name": "python",
   "nbconvert_exporter": "python",
   "pygments_lexer": "ipython3",
   "version": "3.13.5"
  }
 },
 "nbformat": 4,
 "nbformat_minor": 5
}
